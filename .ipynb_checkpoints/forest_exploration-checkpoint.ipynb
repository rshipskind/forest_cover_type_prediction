{
 "cells": [
  {
   "cell_type": "code",
   "execution_count": 6,
   "metadata": {
    "collapsed": false
   },
   "outputs": [
    {
     "ename": "ImportError",
     "evalue": "cannot import name 'utils'",
     "output_type": "error",
     "traceback": [
      "\u001b[0;31m---------------------------------------------------------------------------\u001b[0m",
      "\u001b[0;31mImportError\u001b[0m                               Traceback (most recent call last)",
      "\u001b[0;32m<ipython-input-6-395c6e832fbd>\u001b[0m in \u001b[0;36m<module>\u001b[0;34m()\u001b[0m\n\u001b[1;32m      4\u001b[0m \u001b[0;32mimport\u001b[0m \u001b[0mmatplotlib\u001b[0m\u001b[0;34m.\u001b[0m\u001b[0mpyplot\u001b[0m \u001b[0;32mas\u001b[0m \u001b[0mplt\u001b[0m\u001b[0;34m\u001b[0m\u001b[0m\n\u001b[1;32m      5\u001b[0m \u001b[0mget_ipython\u001b[0m\u001b[0;34m(\u001b[0m\u001b[0;34m)\u001b[0m\u001b[0;34m.\u001b[0m\u001b[0mmagic\u001b[0m\u001b[0;34m(\u001b[0m\u001b[0;34m'matplotlib inline'\u001b[0m\u001b[0;34m)\u001b[0m\u001b[0;34m\u001b[0m\u001b[0m\n\u001b[0;32m----> 6\u001b[0;31m \u001b[0;32mimport\u001b[0m \u001b[0mseaborn\u001b[0m \u001b[0;32mas\u001b[0m \u001b[0msns\u001b[0m\u001b[0;34m\u001b[0m\u001b[0m\n\u001b[0m",
      "\u001b[0;32m//anaconda/lib/python3.4/site-packages/seaborn/__init__.py\u001b[0m in \u001b[0;36m<module>\u001b[0;34m()\u001b[0m\n\u001b[1;32m      2\u001b[0m \u001b[0;32mfrom\u001b[0m \u001b[0;34m.\u001b[0m\u001b[0mutils\u001b[0m \u001b[0;32mimport\u001b[0m \u001b[0;34m*\u001b[0m\u001b[0;34m\u001b[0m\u001b[0m\n\u001b[1;32m      3\u001b[0m \u001b[0;32mfrom\u001b[0m \u001b[0;34m.\u001b[0m\u001b[0mpalettes\u001b[0m \u001b[0;32mimport\u001b[0m \u001b[0;34m*\u001b[0m\u001b[0;34m\u001b[0m\u001b[0m\n\u001b[0;32m----> 4\u001b[0;31m \u001b[0;32mfrom\u001b[0m \u001b[0;34m.\u001b[0m\u001b[0mlinearmodels\u001b[0m \u001b[0;32mimport\u001b[0m \u001b[0;34m*\u001b[0m\u001b[0;34m\u001b[0m\u001b[0m\n\u001b[0m\u001b[1;32m      5\u001b[0m \u001b[0;32mfrom\u001b[0m \u001b[0;34m.\u001b[0m\u001b[0mdistributions\u001b[0m \u001b[0;32mimport\u001b[0m \u001b[0;34m*\u001b[0m\u001b[0;34m\u001b[0m\u001b[0m\n\u001b[1;32m      6\u001b[0m \u001b[0;32mfrom\u001b[0m \u001b[0;34m.\u001b[0m\u001b[0mtimeseries\u001b[0m \u001b[0;32mimport\u001b[0m \u001b[0;34m*\u001b[0m\u001b[0;34m\u001b[0m\u001b[0m\n",
      "\u001b[0;32m//anaconda/lib/python3.4/site-packages/seaborn/linearmodels.py\u001b[0m in \u001b[0;36m<module>\u001b[0;34m()\u001b[0m\n\u001b[1;32m     19\u001b[0m \u001b[0;32mfrom\u001b[0m \u001b[0;34m.\u001b[0m\u001b[0mexternal\u001b[0m\u001b[0;34m.\u001b[0m\u001b[0msix\u001b[0m\u001b[0;34m.\u001b[0m\u001b[0mmoves\u001b[0m \u001b[0;32mimport\u001b[0m \u001b[0mrange\u001b[0m\u001b[0;34m\u001b[0m\u001b[0m\n\u001b[1;32m     20\u001b[0m \u001b[0;34m\u001b[0m\u001b[0m\n\u001b[0;32m---> 21\u001b[0;31m \u001b[0;32mfrom\u001b[0m \u001b[0;34m.\u001b[0m \u001b[0;32mimport\u001b[0m \u001b[0mutils\u001b[0m\u001b[0;34m\u001b[0m\u001b[0m\n\u001b[0m\u001b[1;32m     22\u001b[0m \u001b[0;32mfrom\u001b[0m \u001b[0;34m.\u001b[0m \u001b[0;32mimport\u001b[0m \u001b[0malgorithms\u001b[0m \u001b[0;32mas\u001b[0m \u001b[0malgo\u001b[0m\u001b[0;34m\u001b[0m\u001b[0m\n\u001b[1;32m     23\u001b[0m \u001b[0;32mfrom\u001b[0m \u001b[0;34m.\u001b[0m\u001b[0mpalettes\u001b[0m \u001b[0;32mimport\u001b[0m \u001b[0mcolor_palette\u001b[0m\u001b[0;34m\u001b[0m\u001b[0m\n",
      "\u001b[0;31mImportError\u001b[0m: cannot import name 'utils'"
     ]
    }
   ],
   "source": [
    "import numpy as np\n",
    "import pandas as pd\n",
    "import csv as csv\n",
    "import matplotlib.pyplot as plt\n",
    "%matplotlib inline\n",
    "import seaborn as sns"
   ]
  },
  {
   "cell_type": "code",
   "execution_count": null,
   "metadata": {
    "collapsed": false
   },
   "outputs": [],
   "source": [
    "train_set = pd.read_csv('train.csv')\n",
    "test_set = pd.read_csv('test.csv')"
   ]
  },
  {
   "cell_type": "code",
   "execution_count": null,
   "metadata": {
    "collapsed": false
   },
   "outputs": [],
   "source": [
    "train_set = train_set.reindex_axis(['Cover_Type'] + list(train_set.columns[:-1]), axis=1)\n",
    "train_set['Distance_To_Hydrology'] = np.sqrt(train_set.Vertical_Distance_To_Hydrology**2 \n",
    "                                             + train_set.Horizontal_Distance_To_Hydrology**2)\n",
    "train_set['Downhill_Hydrology'] = train_set.Vertical_Distance_To_Hydrology < 0\n",
    "train_set['Hillshade_Total'] = train_set.Hillshade_9am + train_set.Hillshade_Noon + train_set.Hillshade_3pm\n",
    "train_set['Hillshade_Avg'] = (train_set.Hillshade_9am + train_set.Hillshade_Noon + train_set.Hillshade_3pm)/255"
   ]
  },
  {
   "cell_type": "code",
   "execution_count": null,
   "metadata": {
    "collapsed": false
   },
   "outputs": [],
   "source": [
    "train_set.head()"
   ]
  },
  {
   "cell_type": "code",
   "execution_count": null,
   "metadata": {
    "collapsed": false
   },
   "outputs": [],
   "source": [
    "spruce = train_set[train_set.Cover_Type == 1]\n",
    "lodgepoll = train_set[train_set.Cover_Type == 2]\n",
    "ponderosa = train_set[train_set.Cover_Type == 3]\n",
    "cottonwood = train_set[train_set.Cover_Type == 4]\n",
    "aspen = train_set[train_set.Cover_Type == 5]\n",
    "douglas = train_set[train_set.Cover_Type == 6]\n",
    "krummholz = train_set[train_set.Cover_Type == 7]"
   ]
  },
  {
   "cell_type": "code",
   "execution_count": null,
   "metadata": {
    "collapsed": false
   },
   "outputs": [],
   "source": [
    "plt.scatter(spruce.Elevation, spruce.Aspect, c = 'r')\n",
    "plt.scatter(lodgepoll.Elevation, spruce.Aspect, c = 'b')\n",
    "plt.scatter(ponderosa.Elevation, ponderosa.Aspect, c = 'g')\n",
    "plt.scatter(cottonwood.Elevation, cottonwood.Aspect, c = 'y')\n",
    "plt.scatter(aspen.Elevation, aspen.Aspect, c = 'orange')\n",
    "plt.scatter(douglas.Elevation, douglas.Aspect, c = 'pink')\n",
    "plt.scatter(krummholz.Elevation, krummholz.Aspect, c = 'purple')\n",
    "plt.xlabel('Elevation')\n",
    "plt.ylabel('Aspect')"
   ]
  },
  {
   "cell_type": "code",
   "execution_count": null,
   "metadata": {
    "collapsed": false
   },
   "outputs": [],
   "source": [
    "plt.scatter(spruce.Elevation, spruce.Slope, c = 'r')\n",
    "plt.scatter(lodgepoll.Elevation, spruce.Slope, c = 'b')\n",
    "plt.scatter(ponderosa.Elevation, ponderosa.Slope, c = 'g')\n",
    "plt.scatter(cottonwood.Elevation, cottonwood.Slope, c = 'y')\n",
    "plt.scatter(aspen.Elevation, aspen.Slope, c = 'orange')\n",
    "plt.scatter(douglas.Elevation, douglas.Slope, c = 'pink')\n",
    "plt.scatter(krummholz.Elevation, krummholz.Slope, c = 'purple')\n",
    "plt.xlabel('Elevation')\n",
    "plt.ylabel('Slope')"
   ]
  },
  {
   "cell_type": "code",
   "execution_count": null,
   "metadata": {
    "collapsed": false
   },
   "outputs": [],
   "source": [
    "plt.scatter(spruce.Elevation, spruce.Vertical_Distance_To_Hydrology, c = 'r')\n",
    "plt.scatter(lodgepoll.Elevation, spruce.Vertical_Distance_To_Hydrology, c = 'b')\n",
    "plt.scatter(ponderosa.Elevation, ponderosa.Vertical_Distance_To_Hydrology, c = 'g')\n",
    "plt.scatter(cottonwood.Elevation, cottonwood.Vertical_Distance_To_Hydrology, c = 'y')\n",
    "plt.scatter(aspen.Elevation, aspen.Vertical_Distance_To_Hydrology, c = 'orange')\n",
    "plt.scatter(douglas.Elevation, douglas.Vertical_Distance_To_Hydrology, c = 'pink')\n",
    "plt.scatter(krummholz.Elevation, krummholz.Vertical_Distance_To_Hydrology, c = 'purple')\n",
    "plt.xlabel('Elevation')\n",
    "plt.ylabel('Vertical_Distance_To_Hydrology')"
   ]
  },
  {
   "cell_type": "code",
   "execution_count": null,
   "metadata": {
    "collapsed": false
   },
   "outputs": [],
   "source": [
    "train_set.describe()"
   ]
  },
  {
   "cell_type": "code",
   "execution_count": null,
   "metadata": {
    "collapsed": false
   },
   "outputs": [],
   "source": [
    "train_set.columns"
   ]
  },
  {
   "cell_type": "code",
   "execution_count": null,
   "metadata": {
    "collapsed": false
   },
   "outputs": [],
   "source": [
    "plt.scatter(spruce.Aspect, spruce.Hillshade_9am, c = 'r')\n",
    "plt.scatter(lodgepoll.Aspect, spruce.Hillshade_9am, c = 'b')\n",
    "plt.scatter(ponderosa.Aspect, ponderosa.Hillshade_9am, c = 'g')\n",
    "plt.scatter(cottonwood.Aspect, cottonwood.Hillshade_9am, c = 'y')\n",
    "plt.scatter(aspen.Aspect, aspen.Hillshade_9am, c = 'orange')\n",
    "plt.scatter(douglas.Aspect, douglas.Hillshade_9am, c = 'pink')\n",
    "plt.scatter(krummholz.Aspect, krummholz.Hillshade_9am, c = 'purple')\n",
    "plt.xlabel('Aspect')\n",
    "plt.ylabel('Hillshade_9am')"
   ]
  },
  {
   "cell_type": "code",
   "execution_count": null,
   "metadata": {
    "collapsed": false
   },
   "outputs": [],
   "source": [
    "plt.scatter(spruce.Aspect, spruce.Hillshade_Noon, c = 'r')\n",
    "plt.scatter(lodgepoll.Aspect, spruce.Hillshade_Noon, c = 'b')\n",
    "plt.scatter(ponderosa.Aspect, ponderosa.Hillshade_Noon, c = 'g')\n",
    "plt.scatter(cottonwood.Aspect, cottonwood.Hillshade_Noon, c = 'y')\n",
    "plt.scatter(aspen.Aspect, aspen.Hillshade_Noon, c = 'orange')\n",
    "plt.scatter(douglas.Aspect, douglas.Hillshade_Noon, c = 'pink')\n",
    "plt.scatter(krummholz.Aspect, krummholz.Hillshade_Noon, c = 'purple')\n",
    "plt.xlabel('Aspect')\n",
    "plt.ylabel('Hillshade_Noon')"
   ]
  },
  {
   "cell_type": "code",
   "execution_count": null,
   "metadata": {
    "collapsed": false
   },
   "outputs": [],
   "source": [
    "train_set.columns"
   ]
  },
  {
   "cell_type": "code",
   "execution_count": null,
   "metadata": {
    "collapsed": false
   },
   "outputs": [],
   "source": [
    "plt.scatter(spruce.Elevation, spruce.Distance_To_Hydrology, c = 'r')\n",
    "plt.scatter(lodgepoll.Elevation, spruce.Distance_To_Hydrology, c = 'b')\n",
    "plt.scatter(ponderosa.Elevation, ponderosa.Distance_To_Hydrology, c = 'g')\n",
    "plt.scatter(cottonwood.Elevation, cottonwood.Distance_To_Hydrology, c = 'y')\n",
    "plt.scatter(aspen.Elevation, aspen.Distance_To_Hydrology, c = 'orange')\n",
    "plt.scatter(douglas.Elevation, douglas.Distance_To_Hydrology, c = 'pink')\n",
    "plt.scatter(krummholz.Elevation, krummholz.Distance_To_Hydrology, c = 'purple')\n",
    "plt.xlabel('Elevation')\n",
    "plt.ylabel('Distance_To_Hydrology')"
   ]
  },
  {
   "cell_type": "code",
   "execution_count": null,
   "metadata": {
    "collapsed": false
   },
   "outputs": [],
   "source": [
    "plt.scatter(train_set.Cover_Type, train_set.Distance_To_Hydrology)"
   ]
  },
  {
   "cell_type": "code",
   "execution_count": null,
   "metadata": {
    "collapsed": false
   },
   "outputs": [],
   "source": [
    "plt.scatter(spruce.Elevation, spruce.Horizontal_Distance_To_Fire_Points\t, c = 'r')\n",
    "plt.scatter(lodgepoll.Elevation, spruce.Horizontal_Distance_To_Fire_Points\t, c = 'b')\n",
    "plt.scatter(ponderosa.Elevation, ponderosa.Horizontal_Distance_To_Fire_Points\t, c = 'g')\n",
    "plt.scatter(cottonwood.Elevation, cottonwood.Horizontal_Distance_To_Fire_Points\t, c = 'y')\n",
    "plt.scatter(aspen.Elevation, aspen.Horizontal_Distance_To_Fire_Points\t, c = 'orange')\n",
    "plt.scatter(douglas.Elevation, douglas.Horizontal_Distance_To_Fire_Points\t, c = 'pink')\n",
    "plt.scatter(krummholz.Elevation, krummholz.Horizontal_Distance_To_Fire_Points\t, c = 'purple')\n",
    "plt.xlabel('Elevation')\n",
    "plt.ylabel('Horizontal_Distance_To_Fire_Points\t')"
   ]
  },
  {
   "cell_type": "code",
   "execution_count": null,
   "metadata": {
    "collapsed": false
   },
   "outputs": [],
   "source": [
    "plt.scatter(spruce.Elevation, spruce.Horizontal_Distance_To_Roadways, c = 'r')\n",
    "plt.scatter(lodgepoll.Elevation, spruce.Horizontal_Distance_To_Roadways, c = 'b')\n",
    "plt.scatter(ponderosa.Elevation, ponderosa.Horizontal_Distance_To_Roadways, c = 'g')\n",
    "plt.scatter(cottonwood.Elevation, cottonwood.Horizontal_Distance_To_Roadways, c = 'y')\n",
    "plt.scatter(aspen.Elevation, aspen.Horizontal_Distance_To_Roadways, c = 'orange')\n",
    "plt.scatter(douglas.Elevation, douglas.Horizontal_Distance_To_Roadways, c = 'pink')\n",
    "plt.scatter(krummholz.Elevation, krummholz.Horizontal_Distance_To_Roadways, c = 'purple')\n",
    "plt.xlabel('Elevation')\n",
    "plt.ylabel('Horizontal_Distance_To_Roadways')"
   ]
  },
  {
   "cell_type": "code",
   "execution_count": null,
   "metadata": {
    "collapsed": false
   },
   "outputs": [],
   "source": [
    "train_set.describe()"
   ]
  },
  {
   "cell_type": "code",
   "execution_count": null,
   "metadata": {
    "collapsed": false
   },
   "outputs": [],
   "source": [
    "train_set[train_set.Hillshade_3pm == 0].describe()"
   ]
  },
  {
   "cell_type": "code",
   "execution_count": null,
   "metadata": {
    "collapsed": false
   },
   "outputs": [],
   "source": [
    "plt.scatter(spruce.Hillshade_9am, spruce.Hillshade_3pm, c = 'r')\n",
    "plt.scatter(lodgepoll.Hillshade_9am, spruce.Hillshade_3pm, c = 'b')\n",
    "plt.scatter(ponderosa.Hillshade_9am, ponderosa.Hillshade_3pm, c = 'g')\n",
    "plt.scatter(cottonwood.Hillshade_9am, cottonwood.Hillshade_3pm, c = 'y')\n",
    "plt.scatter(aspen.Hillshade_9am, aspen.Hillshade_3pm, c = 'orange')\n",
    "plt.scatter(douglas.Hillshade_9am, douglas.Hillshade_3pm, c = 'pink')\n",
    "plt.scatter(krummholz.Hillshade_9am, krummholz.Hillshade_3pm, c = 'purple')\n",
    "plt.xlabel('Hillshade_9am')\n",
    "plt.ylabel('Hillshade_3pm')"
   ]
  },
  {
   "cell_type": "code",
   "execution_count": null,
   "metadata": {
    "collapsed": false
   },
   "outputs": [],
   "source": [
    "plt.scatter(spruce.Aspect, spruce.Hillshade_3pm, c = 'r')\n",
    "plt.scatter(lodgepoll.Aspect, spruce.Hillshade_3pm, c = 'b')\n",
    "plt.scatter(ponderosa.Aspect, ponderosa.Hillshade_3pm, c = 'g')\n",
    "plt.scatter(cottonwood.Aspect, cottonwood.Hillshade_3pm, c = 'y')\n",
    "plt.scatter(aspen.Aspect, aspen.Hillshade_3pm, c = 'orange')\n",
    "plt.scatter(douglas.Aspect, douglas.Hillshade_3pm, c = 'pink')\n",
    "plt.scatter(krummholz.Aspect, krummholz.Hillshade_3pm, c = 'purple')\n",
    "plt.xlabel('Aspect')\n",
    "plt.ylabel('Hillshade_3pm')"
   ]
  },
  {
   "cell_type": "code",
   "execution_count": null,
   "metadata": {
    "collapsed": false
   },
   "outputs": [],
   "source": [
    "train_set.Slope.describe()"
   ]
  },
  {
   "cell_type": "code",
   "execution_count": null,
   "metadata": {
    "collapsed": false
   },
   "outputs": [],
   "source": [
    "plt.scatter(spruce.Aspect, spruce.Hillshade_Avg, c = 'r')\n",
    "plt.scatter(lodgepoll.Aspect, spruce.Hillshade_Avg, c = 'b')\n",
    "plt.scatter(ponderosa.Aspect, ponderosa.Hillshade_Avg, c = 'g')\n",
    "plt.scatter(cottonwood.Aspect, cottonwood.Hillshade_Avg, c = 'y')\n",
    "plt.scatter(aspen.Aspect, aspen.Hillshade_Avg, c = 'orange')\n",
    "plt.scatter(douglas.Aspect, douglas.Hillshade_Avg, c = 'pink')\n",
    "plt.scatter(krummholz.Aspect, krummholz.Hillshade_Avg, c = 'purple')\n",
    "plt.xlabel('Slope')\n",
    "plt.ylabel('Hillshade_Avg')"
   ]
  },
  {
   "cell_type": "code",
   "execution_count": null,
   "metadata": {
    "collapsed": false
   },
   "outputs": [],
   "source": [
    "plt.scatter(spruce.Aspect, spruce.Hillshade_Total, c = 'r')\n",
    "plt.scatter(lodgepoll.Aspect, spruce.Hillshade_Total, c = 'b')\n",
    "plt.scatter(ponderosa.Aspect, ponderosa.Hillshade_Total, c = 'g')\n",
    "plt.scatter(cottonwood.Aspect, cottonwood.Hillshade_Total, c = 'y')\n",
    "plt.scatter(aspen.Aspect, aspen.Hillshade_Total, c = 'orange')\n",
    "plt.scatter(douglas.Aspect, douglas.Hillshade_Total, c = 'pink')\n",
    "plt.scatter(krummholz.Aspect, krummholz.Hillshade_Total, c = 'purple')\n",
    "plt.xlabel('Slope')\n",
    "plt.ylabel('Hillshade_Total')"
   ]
  },
  {
   "cell_type": "code",
   "execution_count": null,
   "metadata": {
    "collapsed": false
   },
   "outputs": [],
   "source": [
    "train_set.Cover_Type.describe()"
   ]
  },
  {
   "cell_type": "code",
   "execution_count": null,
   "metadata": {
    "collapsed": false
   },
   "outputs": [],
   "source": [
    "train_set.cov()"
   ]
  },
  {
   "cell_type": "code",
   "execution_count": null,
   "metadata": {
    "collapsed": false
   },
   "outputs": [],
   "source": [
    "train_set.describe()"
   ]
  },
  {
   "cell_type": "code",
   "execution_count": null,
   "metadata": {
    "collapsed": false,
    "scrolled": true
   },
   "outputs": [],
   "source": [
    "tdrop = train_set.dropna()\n",
    "tdrop.describe()"
   ]
  },
  {
   "cell_type": "code",
   "execution_count": null,
   "metadata": {
    "collapsed": false
   },
   "outputs": [],
   "source": [
    "plot_features = ['Cover_Type', 'Elevation', 'Aspect', 'Slope','Horizontal_Distance_To_Roadways', \n",
    "                 'Hillshade_9am', 'Hillshade_Noon', 'Hillshade_3pm', \n",
    "                 'Horizontal_Distance_To_Fire_Points','Distance_To_Hydrology', \n",
    "                 'Hillshade_Total', 'Hillshade_Avg', 'Downhill_Hydrology']\n",
    "df_to_plot = train_set[plot_features]"
   ]
  },
  {
   "cell_type": "code",
   "execution_count": null,
   "metadata": {
    "collapsed": false
   },
   "outputs": [],
   "source": [
    "df_to_plot.Cover_Type.unique()"
   ]
  },
  {
   "cell_type": "code",
   "execution_count": null,
   "metadata": {
    "collapsed": false
   },
   "outputs": [],
   "source": [
    "sns.pairplot(df_to_plot, hue=\"Cover_Type\")"
   ]
  }
 ],
 "metadata": {
  "kernelspec": {
   "display_name": "Python 3",
   "language": "python",
   "name": "python3"
  },
  "language_info": {
   "codemirror_mode": {
    "name": "ipython",
    "version": 3
   },
   "file_extension": ".py",
   "mimetype": "text/x-python",
   "name": "python",
   "nbconvert_exporter": "python",
   "pygments_lexer": "ipython3",
   "version": "3.4.3"
  }
 },
 "nbformat": 4,
 "nbformat_minor": 0
}
