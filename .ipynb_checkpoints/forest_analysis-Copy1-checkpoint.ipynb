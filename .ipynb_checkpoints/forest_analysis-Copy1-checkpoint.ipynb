{
 "cells": [
  {
   "cell_type": "code",
   "execution_count": 14,
   "metadata": {
    "collapsed": false
   },
   "outputs": [],
   "source": [
    "import numpy as np\n",
    "import pandas as pd\n",
    "import csv as csv\n",
    "from sklearn.ensemble import ExtraTreesClassifier\n",
    "from sklearn import cross_validation\n",
    "%matplotlib inline"
   ]
  },
  {
   "cell_type": "code",
   "execution_count": 2,
   "metadata": {
    "collapsed": true
   },
   "outputs": [],
   "source": [
    "# reads in train and test data sets\n",
    "\n",
    "train_set = pd.read_csv('train.csv')\n",
    "test_set = pd.read_csv('test.csv')"
   ]
  },
  {
   "cell_type": "code",
   "execution_count": 3,
   "metadata": {
    "collapsed": false
   },
   "outputs": [],
   "source": [
    "train_set['Distance_To_Hydrology'] = np.sqrt(train_set.Vertical_Distance_To_Hydrology**2 + \n",
    "                                             train_set.Horizontal_Distance_To_Hydrology**2)\n",
    "test_set['Distance_To_Hydrology'] = np.sqrt(test_set.Vertical_Distance_To_Hydrology**2 + \n",
    "                                            test_set.Horizontal_Distance_To_Hydrology**2)\n",
    "train_set['Downhill_Hydrology'] = train_set.Vertical_Distance_To_Hydrology < 0\n",
    "test_set['Downhill_Hydrology'] = test_set.Vertical_Distance_To_Hydrology < 0\n",
    "train_set['Hillshade_Total'] = train_set.Hillshade_9am + train_set.Hillshade_Noon + train_set.Hillshade_3pm\n",
    "test_set['Hillshade_Total'] = test_set.Hillshade_9am + test_set.Hillshade_Noon + test_set.Hillshade_3pm\n",
    "train_set['Hillshade_Avg'] = (train_set.Hillshade_9am + train_set.Hillshade_Noon + train_set.Hillshade_3pm)/255\n",
    "test_set['Hillshade_Avg'] = (test_set.Hillshade_9am + test_set.Hillshade_Noon + test_set.Hillshade_3pm)/255"
   ]
  },
  {
   "cell_type": "code",
   "execution_count": 4,
   "metadata": {
    "collapsed": false
   },
   "outputs": [],
   "source": [
    "ids = test_set['Id'].values\n",
    "train_data = train_set.drop(['Id', 'Cover_Type'], axis = 1)\n",
    "test_data = test_set.drop(['Id'], axis = 1)\n",
    "target_data = train_set.Cover_Type.values"
   ]
  },
  {
   "cell_type": "code",
   "execution_count": 5,
   "metadata": {
    "collapsed": false
   },
   "outputs": [],
   "source": [
    "train_values = train_data.values\n",
    "test_values = test_data.values"
   ]
  },
  {
   "cell_type": "code",
   "execution_count": 6,
   "metadata": {
    "collapsed": false
   },
   "outputs": [],
   "source": [
    "rf = ExtraTreesClassifier(n_estimators=500, criterion = 'entropy')\n",
    "rf = rf.fit(train_values, target_data)"
   ]
  },
  {
   "cell_type": "code",
   "execution_count": 7,
   "metadata": {
    "collapsed": false
   },
   "outputs": [],
   "source": [
    "output = rf.predict(test_values).astype(int)"
   ]
  },
  {
   "cell_type": "code",
   "execution_count": 8,
   "metadata": {
    "collapsed": false
   },
   "outputs": [
    {
     "name": "stdout",
     "output_type": "stream",
     "text": [
      "Done.\n"
     ]
    }
   ],
   "source": [
    "predictions_file = open(\"forest_cover_prediction.csv\", \"w\")\n",
    "open_file_object = csv.writer(predictions_file)\n",
    "open_file_object.writerow(['Id', 'Cover_Type'])\n",
    "open_file_object.writerows(zip(ids, output))\n",
    "predictions_file.close()\n",
    "print('Done.')"
   ]
  },
  {
   "cell_type": "code",
   "execution_count": 9,
   "metadata": {
    "collapsed": false
   },
   "outputs": [
    {
     "data": {
      "text/plain": [
       "count    565892.000000\n",
       "mean          2.346997\n",
       "std           1.725596\n",
       "min           1.000000\n",
       "25%           1.000000\n",
       "50%           2.000000\n",
       "75%           2.000000\n",
       "max           7.000000\n",
       "Name: Cover_Type, dtype: float64"
      ]
     },
     "execution_count": 9,
     "metadata": {},
     "output_type": "execute_result"
    }
   ],
   "source": [
    "prediction = pd.read_csv('forest_cover_prediction.csv')\n",
    "prediction.Cover_Type.describe()"
   ]
  },
  {
   "cell_type": "code",
   "execution_count": 27,
   "metadata": {
    "collapsed": false
   },
   "outputs": [
    {
     "data": {
      "text/html": [
       "<div style=\"max-height:1000px;max-width:1500px;overflow:auto;\">\n",
       "<table border=\"1\" class=\"dataframe\">\n",
       "  <thead>\n",
       "    <tr style=\"text-align: right;\">\n",
       "      <th></th>\n",
       "      <th>0</th>\n",
       "    </tr>\n",
       "  </thead>\n",
       "  <tbody>\n",
       "    <tr>\n",
       "      <th>Elevation</th>\n",
       "      <td> 0.165799</td>\n",
       "    </tr>\n",
       "    <tr>\n",
       "      <th>Wilderness_Area4</th>\n",
       "      <td> 0.101900</td>\n",
       "    </tr>\n",
       "    <tr>\n",
       "      <th>Horizontal_Distance_To_Roadways</th>\n",
       "      <td> 0.061862</td>\n",
       "    </tr>\n",
       "    <tr>\n",
       "      <th>Horizontal_Distance_To_Fire_Points</th>\n",
       "      <td> 0.046913</td>\n",
       "    </tr>\n",
       "    <tr>\n",
       "      <th>Wilderness_Area1</th>\n",
       "      <td> 0.038576</td>\n",
       "    </tr>\n",
       "    <tr>\n",
       "      <th>Distance_To_Hydrology</th>\n",
       "      <td> 0.035905</td>\n",
       "    </tr>\n",
       "    <tr>\n",
       "      <th>Horizontal_Distance_To_Hydrology</th>\n",
       "      <td> 0.035190</td>\n",
       "    </tr>\n",
       "    <tr>\n",
       "      <th>Soil_Type10</th>\n",
       "      <td> 0.033550</td>\n",
       "    </tr>\n",
       "    <tr>\n",
       "      <th>Wilderness_Area3</th>\n",
       "      <td> 0.033057</td>\n",
       "    </tr>\n",
       "    <tr>\n",
       "      <th>Hillshade_9am</th>\n",
       "      <td> 0.032194</td>\n",
       "    </tr>\n",
       "  </tbody>\n",
       "</table>\n",
       "</div>"
      ],
      "text/plain": [
       "                                           0\n",
       "Elevation                           0.165799\n",
       "Wilderness_Area4                    0.101900\n",
       "Horizontal_Distance_To_Roadways     0.061862\n",
       "Horizontal_Distance_To_Fire_Points  0.046913\n",
       "Wilderness_Area1                    0.038576\n",
       "Distance_To_Hydrology               0.035905\n",
       "Horizontal_Distance_To_Hydrology    0.035190\n",
       "Soil_Type10                         0.033550\n",
       "Wilderness_Area3                    0.033057\n",
       "Hillshade_9am                       0.032194"
      ]
     },
     "execution_count": 27,
     "metadata": {},
     "output_type": "execute_result"
    }
   ],
   "source": [
    "importance = pd.DataFrame(rf.feature_importances_, train_data.columns)\n",
    "importance.sort([0], ascending = False)[:10]"
   ]
  },
  {
   "cell_type": "code",
   "execution_count": 73,
   "metadata": {
    "collapsed": false
   },
   "outputs": [
    {
     "data": {
      "text/plain": [
       "<matplotlib.axes._subplots.AxesSubplot at 0x1973fbe10>"
      ]
     },
     "execution_count": 73,
     "metadata": {},
     "output_type": "execute_result"
    },
    {
     "data": {
      "image/png": "[encoded data removed]",
      "text/plain": [
       "<matplotlib.figure.Figure at 0x1973cbf98>"
      ]
     },
     "metadata": {},
     "output_type": "display_data"
    }
   ],
   "source": [
    "importance.sort([0], ascending = True)[len(importance)-15:].plot(figsize = (10,10), kind = 'barh')"
   ]
  },
  {
   "cell_type": "code",
   "execution_count": null,
   "metadata": {
    "collapsed": true
   },
   "outputs": [],
   "source": []
  }
 ],
 "metadata": {
  "kernelspec": {
   "display_name": "Python 3",
   "language": "python",
   "name": "python3"
  },
  "language_info": {
   "codemirror_mode": {
    "name": "ipython",
    "version": 3
   },
   "file_extension": ".py",
   "mimetype": "text/x-python",
   "name": "python",
   "nbconvert_exporter": "python",
   "pygments_lexer": "ipython3",
   "version": "3.4.3"
  }
 },
 "nbformat": 4,
 "nbformat_minor": 0
}
